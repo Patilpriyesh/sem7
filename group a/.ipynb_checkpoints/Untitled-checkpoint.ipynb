{
 "cells": [
  {
   "cell_type": "markdown",
   "id": "6c2c502e",
   "metadata": {},
   "source": [
    "# program to display the fibonacci sequence up to nth term "
   ]
  },
  {
   "cell_type": "markdown",
   "id": "bbb18581",
   "metadata": {},
   "source": [
    "# without using recursion"
   ]
  },
  {
   "cell_type": "code",
   "execution_count": 9,
   "id": "092f8bfe",
   "metadata": {
    "scrolled": true
   },
   "outputs": [
    {
     "name": "stdout",
     "output_type": "stream",
     "text": [
      "Enter number of terms5\n",
      "Fibonacci sequence:\n",
      "0\n",
      "1\n",
      "1\n",
      "2\n",
      "3\n"
     ]
    }
   ],
   "source": [
    "nterms = int(input(\"Enter number of terms\"))\n",
    "n1, n2 = 0,1\n",
    "count = 0\n",
    "#check if the number of terms is valid\n",
    "if nterms <= 0:\n",
    "    print(\"Please enter a positive integer\")\n",
    "elif nterms == 1:\n",
    "    print(\"Fibonacci sequence upto\", nterms,\":\")\n",
    "    print(n1)\n",
    "    \n",
    "#generate fibonacci sequence\n",
    "else:\n",
    "    print(\"Fibonacci sequence:\")\n",
    "    while count < nterms:\n",
    "        print(n1)\n",
    "        nth = n1 + n2\n",
    "        n1 = n2\n",
    "        n2 = nth\n",
    "        count += 1"
   ]
  },
  {
   "cell_type": "markdown",
   "id": "1beba48f",
   "metadata": {},
   "source": [
    "# Recursion"
   ]
  },
  {
   "cell_type": "code",
   "execution_count": 13,
   "id": "afabd26f",
   "metadata": {},
   "outputs": [
    {
     "name": "stdout",
     "output_type": "stream",
     "text": [
      "Enter number of terms:5\n",
      "Fibonacci sequence:\n",
      "0\n",
      "1\n",
      "1\n",
      "2\n",
      "3\n"
     ]
    }
   ],
   "source": [
    "def fibonacci(n):\n",
    "    if(n <= 1):\n",
    "        return n\n",
    "    else:\n",
    "        return(fibonacci(n-1) + fibonacci(n-2))\n",
    "n = int(input(\"Enter number of terms:\"))\n",
    "print(\"Fibonacci sequence:\")\n",
    "for i in range(n):\n",
    "    print(fibonacci(i))"
   ]
  }
 ],
 "metadata": {
  "kernelspec": {
   "display_name": "Python 3 (ipykernel)",
   "language": "python",
   "name": "python3"
  },
  "language_info": {
   "codemirror_mode": {
    "name": "ipython",
    "version": 3
   },
   "file_extension": ".py",
   "mimetype": "text/x-python",
   "name": "python",
   "nbconvert_exporter": "python",
   "pygments_lexer": "ipython3",
   "version": "3.10.9"
  }
 },
 "nbformat": 4,
 "nbformat_minor": 5
}
