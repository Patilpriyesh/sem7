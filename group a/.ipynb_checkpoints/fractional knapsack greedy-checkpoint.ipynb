{
 "cells": [
  {
   "cell_type": "markdown",
   "id": "5ef4d372",
   "metadata": {},
   "source": [
    "# program to solve a fractional Knapsack problem using a greedy method."
   ]
  },
  {
   "cell_type": "markdown",
   "id": "5169c636",
   "metadata": {},
   "source": [
    " Fractional Knapsack problem"
   ]
  },
  {
   "cell_type": "code",
   "execution_count": 2,
   "id": "b46a4ed9",
   "metadata": {
    "scrolled": true
   },
   "outputs": [
    {
     "name": "stdout",
     "output_type": "stream",
     "text": [
      "240.0\n"
     ]
    }
   ],
   "source": [
    "class Item:\n",
    "    def __init__(self, value, weight):\n",
    "        self.value = value\n",
    "        self.weight = weight\n",
    "def fractionalKnapsack(W, arr):\n",
    "    arr.sort(key = lambda x: (x.value/x.weight), reverse = True)\n",
    "    finalvalue = 0.0\n",
    "    for item in arr:\n",
    "        if item.weight <= W:\n",
    "            W -= item.weight\n",
    "            finalvalue += item.value\n",
    "            #if we cant add current item, add fractional part of it\n",
    "        else:\n",
    "            finalvalue += item.value * W / item.weight\n",
    "            break\n",
    "    #returing final value\n",
    "    return finalvalue\n",
    "\n",
    "if __name__ == \"__main__\":\n",
    "    W = 50\n",
    "    arr = [Item(60, 10), Item(100, 20), Item(120, 30)]\n",
    "    #functional call\n",
    "    max_val = fractionalKnapsack(W, arr)\n",
    "    print(max_val)"
   ]
  },
  {
   "cell_type": "code",
   "execution_count": null,
   "id": "ac0203d6",
   "metadata": {},
   "outputs": [],
   "source": []
  }
 ],
 "metadata": {
  "kernelspec": {
   "display_name": "Python 3 (ipykernel)",
   "language": "python",
   "name": "python3"
  },
  "language_info": {
   "codemirror_mode": {
    "name": "ipython",
    "version": 3
   },
   "file_extension": ".py",
   "mimetype": "text/x-python",
   "name": "python",
   "nbconvert_exporter": "python",
   "pygments_lexer": "ipython3",
   "version": "3.10.9"
  }
 },
 "nbformat": 4,
 "nbformat_minor": 5
}
