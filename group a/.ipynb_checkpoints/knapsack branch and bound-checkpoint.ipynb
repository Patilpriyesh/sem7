{
 "cells": [
  {
   "cell_type": "markdown",
   "id": "8d083829",
   "metadata": {},
   "source": [
    "# Write a program to solve a 0-1 Knapsack problem using dynamic programming or branch and bound strategy"
   ]
  },
  {
   "cell_type": "markdown",
   "id": "73241083",
   "metadata": {},
   "source": [
    "A Dynamic Programming based Python Program for 0-1 Knapsack problem\n",
    "Returns the maximum value that can be put in a knapsack of capacity W"
   ]
  },
  {
   "cell_type": "code",
   "execution_count": 2,
   "id": "67fe6634",
   "metadata": {},
   "outputs": [
    {
     "name": "stdout",
     "output_type": "stream",
     "text": [
      "220\n"
     ]
    }
   ],
   "source": [
    "#code\n",
    "def knapSack(W, wt, val, n):\n",
    "    \n",
    "    #base case\n",
    "    if n == 0 or W == 0:\n",
    "        return 0\n",
    "    \n",
    "    #if weight of the nth item is more than knapsack of capacity W,\n",
    "    #then this item cannot be included in the optimal solution\n",
    "    if (wt[n-1] > W):\n",
    "        return knapSack(W, wt, val, n-1)\n",
    "    \n",
    "    #return the maximum of two cases:(1)nth item included (2)not included\n",
    "    else:\n",
    "        return max(val[n-1] + knapSack(W - wt[n-1], wt, val, n-1), knapSack(W,wt,val,n-1))\n",
    "        \n",
    "val = [60, 100, 120]\n",
    "wt = [10, 20, 30]\n",
    "W = 50\n",
    "n = len(val)\n",
    "print(knapSack(W,wt,val,n))"
   ]
  },
  {
   "cell_type": "code",
   "execution_count": null,
   "id": "323cbeaf",
   "metadata": {},
   "outputs": [],
   "source": []
  }
 ],
 "metadata": {
  "kernelspec": {
   "display_name": "Python 3 (ipykernel)",
   "language": "python",
   "name": "python3"
  },
  "language_info": {
   "codemirror_mode": {
    "name": "ipython",
    "version": 3
   },
   "file_extension": ".py",
   "mimetype": "text/x-python",
   "name": "python",
   "nbconvert_exporter": "python",
   "pygments_lexer": "ipython3",
   "version": "3.10.9"
  }
 },
 "nbformat": 4,
 "nbformat_minor": 5
}
