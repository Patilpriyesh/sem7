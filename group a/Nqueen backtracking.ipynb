{
 "cells": [
  {
   "cell_type": "markdown",
   "id": "e2d0a90a",
   "metadata": {},
   "source": [
    "# Design n-Queens matrix having first Queen placed. Use backtracking to place remaining Queens to generate the final n-queen’s matrix."
   ]
  },
  {
   "cell_type": "code",
   "execution_count": 2,
   "id": "d8414d79",
   "metadata": {},
   "outputs": [
    {
     "name": "stdout",
     "output_type": "stream",
     "text": [
      "0 1 0 0\n",
      "0 0 0 1\n",
      "1 0 0 0\n",
      "0 0 1 0\n",
      "\n",
      "0 0 1 0\n",
      "1 0 0 0\n",
      "0 0 0 1\n",
      "0 1 0 0\n",
      "\n"
     ]
    }
   ],
   "source": [
    "# N-Queens\n",
    "def n_queens(n):\n",
    "    col = set()\n",
    "    # (r, c)\n",
    "    posDiag = set()  # (r+c)\n",
    "    negDiag = set()  # (r-c)\n",
    "\n",
    "    # list of lists\n",
    "    res = []\n",
    "\n",
    "    # board\n",
    "    board = [[\"0\"] * n for i in range(n)]\n",
    "\n",
    "    # backtrack\n",
    "    def backtrack(r):\n",
    "        # base case\n",
    "        if r == n:\n",
    "            copy = [\" \".join(row) for row in board]\n",
    "            res.append(copy)\n",
    "            return\n",
    "\n",
    "        # recursive case\n",
    "        for c in range(n):\n",
    "            if c in col or (r + c) in posDiag or (r - c) in negDiag:\n",
    "                continue\n",
    "\n",
    "            # place queen\n",
    "            col.add(c)\n",
    "            posDiag.add(r + c)\n",
    "            negDiag.add(r - c)\n",
    "            board[r][c] = \"1\"\n",
    "\n",
    "            # recurse to next row\n",
    "            backtrack(r + 1)\n",
    "\n",
    "            # backtrack to previous row\n",
    "            col.remove(c)\n",
    "            posDiag.remove(r + c)\n",
    "            negDiag.remove(r - c)\n",
    "            board[r][c] = \"0\"\n",
    "\n",
    "    # backtrack to previous state\n",
    "    backtrack(0)\n",
    "\n",
    "    # print solution\n",
    "    for sol in res:\n",
    "        for row in sol:\n",
    "            print(row)\n",
    "        print()\n",
    "\n",
    "# Driver code\n",
    "if __name__ == \"__main__\":\n",
    "    n_queens(4)"
   ]
  },
  {
   "cell_type": "code",
   "execution_count": null,
   "id": "a6458eb0",
   "metadata": {},
   "outputs": [],
   "source": [
    "\n"
   ]
  },
  {
   "cell_type": "code",
   "execution_count": null,
   "id": "be079349",
   "metadata": {},
   "outputs": [],
   "source": []
  }
 ],
 "metadata": {
  "kernelspec": {
   "display_name": "Python 3 (ipykernel)",
   "language": "python",
   "name": "python3"
  },
  "language_info": {
   "codemirror_mode": {
    "name": "ipython",
    "version": 3
   },
   "file_extension": ".py",
   "mimetype": "text/x-python",
   "name": "python",
   "nbconvert_exporter": "python",
   "pygments_lexer": "ipython3",
   "version": "3.10.9"
  }
 },
 "nbformat": 4,
 "nbformat_minor": 5
}
